{
 "cells": [
  {
   "cell_type": "code",
   "execution_count": 1,
   "metadata": {},
   "outputs": [],
   "source": [
    "import pandas as pd\n",
    "import numpy as np\n",
    "import seaborn as sns\n",
    "import matplotlib.pyplot as plt\n",
    "import matplotlib.ticker as ticker\n",
    "from IPython.core.display import display, HTML\n",
    "import os\n",
    "%matplotlib inline"
   ]
  },
  {
   "cell_type": "code",
   "execution_count": 2,
   "metadata": {},
   "outputs": [
    {
     "data": {
      "text/html": [
       "<style>.container { width:100% !important; }</style>"
      ],
      "text/plain": [
       "<IPython.core.display.HTML object>"
      ]
     },
     "metadata": {},
     "output_type": "display_data"
    }
   ],
   "source": [
    "# Notebook Styling \n",
    "sns.set()\n",
    "pd.options.display.max_columns = None\n",
    "display(HTML(\"<style>.container { width:100% !important; }</style>\"))\n",
    "pd.set_option('display.float_format',lambda x: '%.5f' % x)"
   ]
  },
  {
   "cell_type": "markdown",
   "metadata": {},
   "source": [
    "# What is an algorithm?\n",
    "\n",
    "An algorithm is a formal process for calculating some quantity. The word \"algorithm\" was coined in the 1950s and was most commonly used to describe Euclid's method for calculating the greatest common divisor for two integers (ie Euclid's Algorithm). "
   ]
  },
  {
   "cell_type": "code",
   "execution_count": 1,
   "metadata": {},
   "outputs": [],
   "source": [
    "def euclids_algo(m, n):\n",
    "    while n:\n",
    "        m, n = n, m%n\n",
    "    return m        "
   ]
  },
  {
   "cell_type": "code",
   "execution_count": 31,
   "metadata": {},
   "outputs": [
    {
     "data": {
      "text/plain": [
       "1"
      ]
     },
     "execution_count": 31,
     "metadata": {},
     "output_type": "execute_result"
    }
   ],
   "source": [
    "euclids_algo(2387,3)"
   ]
  },
  {
   "cell_type": "code",
   "execution_count": 33,
   "metadata": {},
   "outputs": [
    {
     "data": {
      "text/plain": [
       "3"
      ]
     },
     "execution_count": 33,
     "metadata": {},
     "output_type": "execute_result"
    }
   ],
   "source": [
    "euclids_algo(237,3)"
   ]
  },
  {
   "cell_type": "code",
   "execution_count": 34,
   "metadata": {},
   "outputs": [
    {
     "data": {
      "text/plain": [
       "17"
      ]
     },
     "execution_count": 34,
     "metadata": {},
     "output_type": "execute_result"
    }
   ],
   "source": [
    "euclids_algo(544,119)"
   ]
  },
  {
   "cell_type": "markdown",
   "metadata": {},
   "source": [
    "# Properties of an algorithm\n",
    "\n",
    "As computer science has developed, so has the definition of the concept of the algorithm. Algorithms have the following features \n",
    "\n",
    "1. Finiteness\n",
    "2. Definiteness\n",
    "3. Input(s)\n",
    "4. Output(s)\n",
    "5. Effectiveness"
   ]
  },
  {
   "cell_type": "markdown",
   "metadata": {},
   "source": [
    "## Finiteness\n",
    "\n",
    "An algorithm must terminate after a finite number of steps for all inputs in the problem domain space. Further, to be useful, an algorithm must terminate in a short length of time. "
   ]
  },
  {
   "cell_type": "markdown",
   "metadata": {},
   "source": [
    "## Definiteness\n",
    "\n",
    "Every step of the algorithm must be precisely and unambiguously defined for every case in the problem domain space. This means that the algorithm will produce consistent outputs for a given state and set of inputs."
   ]
  },
  {
   "cell_type": "markdown",
   "metadata": {},
   "source": [
    "## Input(s)\n",
    "\n",
    "An algorithm takes zero or more inputs."
   ]
  },
  {
   "cell_type": "markdown",
   "metadata": {},
   "source": [
    "## Output(s)\n",
    "\n",
    "An algorithm produces one or more outputs."
   ]
  },
  {
   "cell_type": "markdown",
   "metadata": {},
   "source": [
    "## Effectiveness\n",
    "\n",
    "All steps should be sufficiently simple that they can be done in a short length of time and that someone could verify the step's result by hand."
   ]
  },
  {
   "cell_type": "code",
   "execution_count": null,
   "metadata": {},
   "outputs": [],
   "source": []
  },
  {
   "cell_type": "markdown",
   "metadata": {},
   "source": [
    "## Exercises"
   ]
  },
  {
   "cell_type": "markdown",
   "metadata": {},
   "source": [
    "### Ex 1: \n",
    "\n",
    "Given 4 variables, $(a,b,c,d)$, show (via replacement notation) how these could be rearranged to $(b,c,d,a)$ using the minimum number of replacements.\n",
    "\n",
    "$$temp \\leftarrow a$$\n",
    "$$a \\leftarrow b$$\n",
    "$$d \\leftarrow c$$\n",
    "$$c \\leftarrow d$$\n",
    "$$d \\leftarrow temp$$"
   ]
  },
  {
   "cell_type": "markdown",
   "metadata": {},
   "source": [
    "### Ex 2:\n",
    "\n",
    "Prove that $m$ is always greater than $n$ in the first step of Euclid's algorithm, except possibly for on the first run.\n",
    "\n",
    "Assume $n > m$:\n",
    "\n",
    "when $m$ is divided by $n$, the remainder $r$ will simply be $m$ as $m$ divides $n$ 0 complete times. Then $m$ is set to $n$'s value, $n$ is set to $r$'s value, and the process goes back to step 1. Now, $m > n$, so $m$ will divide $n$ completely at least 1 time and the remainder $r$ will be less than $n$. As, on each iteration, $m$ is set to $n$'s value and $n$ is set to $r$'s value, and $r$ is less than $n$, $n$ will always be less than $m$ after that first iteration. \n",
    "\n",
    "In the case where $m > n$ on the initial iteration, then the proof is the same as above, just without the first iteration.\n",
    "\n",
    "And in the case where $m == n$, the algorithm converges on the first iteration.\n",
    "\n",
    "This covers all possible initial cases ($m > n$, $m == n$, and $m < n$), so it is proven."
   ]
  },
  {
   "cell_type": "markdown",
   "metadata": {},
   "source": [
    "### Ex 3:\n",
    "\n",
    "Change Euclid's algo to eliminate the unnecessary $m \\leftarrow n$ assignment is eliminated."
   ]
  },
  {
   "cell_type": "markdown",
   "metadata": {},
   "source": [
    "I did that in my implementation above, but explicitly\n",
    "\n",
    "1. divide $m$ by $n$ and let $m$ be the remainder.\n",
    "2. if $m = 0$, the algorithm terminates and $n$ is the answer\n",
    "3. divide $n$ by $m$ and let $n$ be the remainder.\n",
    "4. if $n = 0$, the algorithm terminates and $m$ is the answer. Otherwise, return to step 1."
   ]
  },
  {
   "cell_type": "markdown",
   "metadata": {},
   "source": [
    "### Ex 4:\n",
    "\n",
    "What is the greatest common divisor of 2166 and 6099?\n",
    "\n",
    "$$m = 6099; n = 2166; r = 1767$$\n",
    "$$m = 2166, n = 1767; r = 399$$\n",
    "$$m = 1767, n = 399; r = 171$$\n",
    "$$m = 399, n = 171; r = 57$$\n",
    "$$m = 399, n = 57; r = 0$$\n",
    "$$n = 57$$"
   ]
  },
  {
   "cell_type": "code",
   "execution_count": 9,
   "metadata": {},
   "outputs": [
    {
     "data": {
      "text/plain": [
       "57"
      ]
     },
     "execution_count": 9,
     "metadata": {},
     "output_type": "execute_result"
    }
   ],
   "source": [
    "euclids_algo(2166, 6099)"
   ]
  },
  {
   "cell_type": "markdown",
   "metadata": {},
   "source": [
    "### Ex 5:\n",
    "\n",
    "Omitted"
   ]
  },
  {
   "cell_type": "markdown",
   "metadata": {},
   "source": [
    "### Ex 6:\n",
    "\n",
    "What is $T_5$, the average number of times step $E1$ is performed when $n=5$?"
   ]
  },
  {
   "cell_type": "markdown",
   "metadata": {},
   "source": [
    "This allows $m$ to have any value, but after the at the end of the first iteration, $m$ is set to $n$'s value and it only decreases in subsequent iterations. This gives us a finite set of values to check: $m \\in [1,2,3,4,5]$"
   ]
  },
  {
   "cell_type": "code",
   "execution_count": null,
   "metadata": {},
   "outputs": [],
   "source": []
  },
  {
   "cell_type": "code",
   "execution_count": null,
   "metadata": {},
   "outputs": [],
   "source": []
  },
  {
   "cell_type": "code",
   "execution_count": null,
   "metadata": {},
   "outputs": [],
   "source": []
  },
  {
   "cell_type": "code",
   "execution_count": null,
   "metadata": {},
   "outputs": [],
   "source": []
  },
  {
   "cell_type": "code",
   "execution_count": null,
   "metadata": {},
   "outputs": [],
   "source": []
  },
  {
   "cell_type": "code",
   "execution_count": null,
   "metadata": {},
   "outputs": [],
   "source": []
  },
  {
   "cell_type": "code",
   "execution_count": null,
   "metadata": {},
   "outputs": [],
   "source": []
  },
  {
   "cell_type": "code",
   "execution_count": null,
   "metadata": {},
   "outputs": [],
   "source": []
  },
  {
   "cell_type": "code",
   "execution_count": null,
   "metadata": {},
   "outputs": [],
   "source": []
  },
  {
   "cell_type": "code",
   "execution_count": null,
   "metadata": {},
   "outputs": [],
   "source": []
  }
 ],
 "metadata": {
  "kernelspec": {
   "display_name": "Python [conda env:py36]",
   "language": "python",
   "name": "conda-env-py36-py"
  },
  "language_info": {
   "codemirror_mode": {
    "name": "ipython",
    "version": 3
   },
   "file_extension": ".py",
   "mimetype": "text/x-python",
   "name": "python",
   "nbconvert_exporter": "python",
   "pygments_lexer": "ipython3",
   "version": "3.6.4"
  }
 },
 "nbformat": 4,
 "nbformat_minor": 2
}
